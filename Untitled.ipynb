{
 "cells": [
  {
   "cell_type": "code",
   "execution_count": 1,
   "id": "badbad46-6786-4143-afb7-8f0da464db2b",
   "metadata": {},
   "outputs": [],
   "source": [
    "%load_ext autoreload\n",
    "%autoreload 2"
   ]
  },
  {
   "cell_type": "code",
   "execution_count": 2,
   "id": "11292a38-e688-4503-a174-3f22880b17cb",
   "metadata": {},
   "outputs": [
    {
     "name": "stderr",
     "output_type": "stream",
     "text": [
      "/home/danwallgun/miniconda3/envs/dl-2/lib/python3.9/site-packages/tqdm/auto.py:22: TqdmWarning: IProgress not found. Please update jupyter and ipywidgets. See https://ipywidgets.readthedocs.io/en/stable/user_install.html\n",
      "  from .autonotebook import tqdm as notebook_tqdm\n"
     ]
    }
   ],
   "source": [
    "import torch\n",
    "from pathlib import Path\n",
    "tokenizer_path = Path('./tokenizer')\n",
    "data_dir = Path('2017-01-trnmted/texts/DeEnItNlRo/DeEnItNlRo/DeEnItNlRo-DeEnItNlRo-output/')\n",
    "device = torch.device(\"cuda\" if torch.cuda.is_available() else \"cpu\")"
   ]
  },
  {
   "cell_type": "code",
   "execution_count": 4,
   "id": "c4ebbff0-1d34-4b43-8c7b-697126fd65ec",
   "metadata": {},
   "outputs": [
    {
     "data": {
      "text/plain": [
       "<All keys matched successfully>"
      ]
     },
     "execution_count": 4,
     "metadata": {},
     "output_type": "execute_result"
    }
   ],
   "source": [
    "from tokenizers import Tokenizer\n",
    "from model import TranslationModel\n",
    "src_tokenizer = Tokenizer.from_file(str(tokenizer_path / \"tokenizer_de.json\"))\n",
    "tgt_tokenizer = Tokenizer.from_file(str(tokenizer_path / \"tokenizer_en.json\"))\n",
    "model = TranslationModel(\n",
    "    # your code here\n",
    "    num_encoder_layers=3,\n",
    "    num_decoder_layers=3,\n",
    "    emb_size=512,\n",
    "    dim_feedforward=512,\n",
    "    n_head=8,\n",
    "    src_vocab_size=src_tokenizer.get_vocab_size(),\n",
    "    tgt_vocab_size=tgt_tokenizer.get_vocab_size(),\n",
    "    dropout_prob=0.2,\n",
    ")\n",
    "model.to(device)\n",
    "model.load_state_dict(torch.load(\"checkpoint_best.pth\"))"
   ]
  },
  {
   "cell_type": "code",
   "execution_count": 5,
   "id": "361c1547-8b55-4ccf-9fb2-ac59d5128ba8",
   "metadata": {},
   "outputs": [],
   "source": [
    "from torch.utils.data import DataLoader\n",
    "from decoding import translate\n",
    "from data import TranslationDataset\n",
    "\n",
    "test_dataset = TranslationDataset(\n",
    "    data_dir / \"test.de.txt\",\n",
    "    data_dir / \"test.en.txt\",\n",
    "    src_tokenizer,\n",
    "    tgt_tokenizer,\n",
    "    max_len=128,\n",
    ")\n",
    "\n",
    "batch_size = 128\n",
    "num_workers = 8\n",
    "test_dataloader = DataLoader(test_dataset, collate_fn=test_dataset.collate_translation_data, batch_size=batch_size, num_workers=num_workers)\n"
   ]
  },
  {
   "cell_type": "code",
   "execution_count": 6,
   "id": "91c53908-2b8c-4fb5-a162-136ac4844c1e",
   "metadata": {},
   "outputs": [
    {
     "data": {
      "text/plain": [
       "['Vor einigen Jahren, hier bei TED, stellte Peter Skillman einen Design-Wettbewerb namens \"Die Marshmallow-Herausforderung\" vor.',\n",
       " 'Die Idee ist ziemlich einfach. Vierer-teams müssen die größtmögliche freistehende Struktur mit 20 Spaghetti, ca. 1m Klebeband, ca. 1m Faden und einem Marshmallow bauen.',\n",
       " 'Der Marshmallow muss oben drauf sein.',\n",
       " 'Und, obwohl es wirklich einfach scheint, ist es tatsächlich richtig schwer, weil es Leute drängt sehr schnell zusammenzuarbeiten.']"
      ]
     },
     "execution_count": 6,
     "metadata": {},
     "output_type": "execute_result"
    }
   ],
   "source": [
    "src_sentences = [line.strip() for line in open(data_dir / \"test.de.txt\").readlines()[:4]]\n",
    "src_sentences"
   ]
  },
  {
   "cell_type": "code",
   "execution_count": 8,
   "id": "e7b09def-74b9-4a85-a1c5-3a9c747aecbe",
   "metadata": {},
   "outputs": [
    {
     "data": {
      "text/plain": [
       "['', 'The The The And', 'first first second it', \"one one reason '\"]"
      ]
     },
     "execution_count": 8,
     "metadata": {},
     "output_type": "execute_result"
    }
   ],
   "source": [
    "from decoding import translate\n",
    "translate(\n",
    "    model,\n",
    "    src_sentences,\n",
    "    src_tokenizer,\n",
    "    tgt_tokenizer,\n",
    "    'greedy',\n",
    "    device\n",
    ")"
   ]
  },
  {
   "cell_type": "code",
   "execution_count": 11,
   "id": "db795123-bfb8-467f-947c-feca10a7ef8c",
   "metadata": {},
   "outputs": [
    {
     "ename": "IndexError",
     "evalue": "list index out of range",
     "output_type": "error",
     "traceback": [
      "\u001b[0;31m---------------------------------------------------------------------------\u001b[0m",
      "\u001b[0;31mIndexError\u001b[0m                                Traceback (most recent call last)",
      "Cell \u001b[0;32mIn [11], line 31\u001b[0m\n\u001b[1;32m     27\u001b[0m     bleu_beam \u001b[38;5;241m=\u001b[39m bleu\u001b[38;5;241m.\u001b[39mcorpus_score(beam_translations, [references])\u001b[38;5;241m.\u001b[39mscore\n\u001b[1;32m     29\u001b[0m     \u001b[38;5;28mprint\u001b[39m(\u001b[38;5;124mf\u001b[39m\u001b[38;5;124m\"\u001b[39m\u001b[38;5;124mBLEU with greedy search: \u001b[39m\u001b[38;5;132;01m{\u001b[39;00mbleu_greedy\u001b[38;5;132;01m}\u001b[39;00m\u001b[38;5;124m, with beam search: \u001b[39m\u001b[38;5;132;01m{\u001b[39;00mbleu_beam\u001b[38;5;132;01m}\u001b[39;00m\u001b[38;5;124m\"\u001b[39m)\n\u001b[0;32m---> 31\u001b[0m \u001b[43mtranslate_test_set\u001b[49m\u001b[43m(\u001b[49m\u001b[43mmodel\u001b[49m\u001b[43m,\u001b[49m\u001b[43m \u001b[49m\u001b[43mPath\u001b[49m\u001b[43m(\u001b[49m\u001b[38;5;124;43m'\u001b[39;49m\u001b[38;5;124;43m2017-01-trnmted/texts/DeEnItNlRo/DeEnItNlRo/DeEnItNlRo-DeEnItNlRo-output/\u001b[39;49m\u001b[38;5;124;43m'\u001b[39;49m\u001b[43m)\u001b[49m\u001b[43m,\u001b[49m\u001b[43m \u001b[49m\u001b[43mtokenizer_path\u001b[49m\u001b[43m)\u001b[49m\n",
      "Cell \u001b[0;32mIn [11], line 23\u001b[0m, in \u001b[0;36mtranslate_test_set\u001b[0;34m(model, data_dir, tokenizer_path)\u001b[0m\n\u001b[1;32m     20\u001b[0m     references \u001b[38;5;241m=\u001b[39m [line\u001b[38;5;241m.\u001b[39mstrip() \u001b[38;5;28;01mfor\u001b[39;00m line \u001b[38;5;129;01min\u001b[39;00m input_file]\n\u001b[1;32m     22\u001b[0m bleu \u001b[38;5;241m=\u001b[39m BLEU()\n\u001b[0;32m---> 23\u001b[0m bleu_greedy \u001b[38;5;241m=\u001b[39m \u001b[43mbleu\u001b[49m\u001b[38;5;241;43m.\u001b[39;49m\u001b[43mcorpus_score\u001b[49m\u001b[43m(\u001b[49m\u001b[43mgreedy_translations\u001b[49m\u001b[43m,\u001b[49m\u001b[43m \u001b[49m\u001b[43m[\u001b[49m\u001b[43mreferences\u001b[49m\u001b[43m]\u001b[49m\u001b[43m)\u001b[49m\u001b[38;5;241m.\u001b[39mscore\n\u001b[1;32m     25\u001b[0m \u001b[38;5;66;03m# we're recreating the object, as it might cache some stats\u001b[39;00m\n\u001b[1;32m     26\u001b[0m bleu \u001b[38;5;241m=\u001b[39m BLEU()\n",
      "File \u001b[0;32m~/miniconda3/envs/dl-2/lib/python3.9/site-packages/sacrebleu/metrics/base.py:414\u001b[0m, in \u001b[0;36mMetric.corpus_score\u001b[0;34m(self, hypotheses, references, n_bootstrap)\u001b[0m\n\u001b[1;32m    401\u001b[0m \u001b[38;5;28;01mdef\u001b[39;00m \u001b[38;5;21mcorpus_score\u001b[39m(\u001b[38;5;28mself\u001b[39m, hypotheses: Sequence[\u001b[38;5;28mstr\u001b[39m],\n\u001b[1;32m    402\u001b[0m                  references: Optional[Sequence[Sequence[\u001b[38;5;28mstr\u001b[39m]]],\n\u001b[1;32m    403\u001b[0m                  n_bootstrap: \u001b[38;5;28mint\u001b[39m \u001b[38;5;241m=\u001b[39m \u001b[38;5;241m1\u001b[39m) \u001b[38;5;241m-\u001b[39m\u001b[38;5;241m>\u001b[39m Any:\n\u001b[1;32m    404\u001b[0m     \u001b[38;5;124;03m\"\"\"Compute the metric for a corpus against a single (or multiple) reference(s).\u001b[39;00m\n\u001b[1;32m    405\u001b[0m \n\u001b[1;32m    406\u001b[0m \u001b[38;5;124;03m    :param hypotheses: A sequence of hypothesis strings.\u001b[39;00m\n\u001b[0;32m   (...)\u001b[0m\n\u001b[1;32m    412\u001b[0m \u001b[38;5;124;03m    :return: A `Score` object.\u001b[39;00m\n\u001b[1;32m    413\u001b[0m \u001b[38;5;124;03m    \"\"\"\u001b[39;00m\n\u001b[0;32m--> 414\u001b[0m     \u001b[38;5;28;43mself\u001b[39;49m\u001b[38;5;241;43m.\u001b[39;49m\u001b[43m_check_corpus_score_args\u001b[49m\u001b[43m(\u001b[49m\u001b[43mhypotheses\u001b[49m\u001b[43m,\u001b[49m\u001b[43m \u001b[49m\u001b[43mreferences\u001b[49m\u001b[43m)\u001b[49m\n\u001b[1;32m    416\u001b[0m     \u001b[38;5;66;03m# Collect corpus stats\u001b[39;00m\n\u001b[1;32m    417\u001b[0m     stats \u001b[38;5;241m=\u001b[39m \u001b[38;5;28mself\u001b[39m\u001b[38;5;241m.\u001b[39m_extract_corpus_statistics(hypotheses, references)\n",
      "File \u001b[0;32m~/miniconda3/envs/dl-2/lib/python3.9/site-packages/sacrebleu/metrics/base.py:244\u001b[0m, in \u001b[0;36mMetric._check_corpus_score_args\u001b[0;34m(self, hyps, refs)\u001b[0m\n\u001b[1;32m    242\u001b[0m \u001b[38;5;28;01mif\u001b[39;00m \u001b[38;5;129;01mnot\u001b[39;00m \u001b[38;5;28misinstance\u001b[39m(hyps, Sequence):\n\u001b[1;32m    243\u001b[0m     err_msg \u001b[38;5;241m=\u001b[39m \u001b[38;5;124m\"\u001b[39m\u001b[38;5;124m`hyps` should be a sequence of strings.\u001b[39m\u001b[38;5;124m\"\u001b[39m\n\u001b[0;32m--> 244\u001b[0m \u001b[38;5;28;01melif\u001b[39;00m \u001b[38;5;129;01mnot\u001b[39;00m \u001b[38;5;28misinstance\u001b[39m(\u001b[43mhyps\u001b[49m\u001b[43m[\u001b[49m\u001b[38;5;241;43m0\u001b[39;49m\u001b[43m]\u001b[49m, \u001b[38;5;28mstr\u001b[39m):\n\u001b[1;32m    245\u001b[0m     err_msg \u001b[38;5;241m=\u001b[39m \u001b[38;5;124m'\u001b[39m\u001b[38;5;124mEach element of `hyps` should be a string.\u001b[39m\u001b[38;5;124m'\u001b[39m\n\u001b[1;32m    246\u001b[0m \u001b[38;5;28;01melif\u001b[39;00m \u001b[38;5;28many\u001b[39m(line \u001b[38;5;129;01mis\u001b[39;00m \u001b[38;5;28;01mNone\u001b[39;00m \u001b[38;5;28;01mfor\u001b[39;00m line \u001b[38;5;129;01min\u001b[39;00m hyps):\n",
      "\u001b[0;31mIndexError\u001b[0m: list index out of range"
     ]
    }
   ],
   "source": [
    "from sacrebleu.metrics import BLEU\n",
    "from decoding import translate\n",
    "def translate_test_set(model: TranslationModel, data_dir, tokenizer_path):\n",
    "    model.eval()\n",
    "\n",
    "    greedy_translations = []\n",
    "    with open(data_dir / \"test.de.txt\") as input_file, open(\n",
    "        \"answers_greedy.txt\", \"w+\"\n",
    "    ) as output_file:\n",
    "        # translate with greedy search\n",
    "        translate()\n",
    "\n",
    "    beam_translations = []\n",
    "    with open(data_dir / \"test.de.txt\") as input_file, open(\n",
    "        \"answers_beam.txt\", \"w+\"\n",
    "    ) as output_file:\n",
    "        # translate with beam search\n",
    "        pass\n",
    "\n",
    "    with open(data_dir / \"test.en.txt\") as input_file:\n",
    "        references = [line.strip() for line in input_file]\n",
    "\n",
    "    bleu = BLEU()\n",
    "    bleu_greedy = bleu.corpus_score(greedy_translations, [references]).score\n",
    "\n",
    "    # we're recreating the object, as it might cache some stats\n",
    "    bleu = BLEU()\n",
    "    bleu_beam = bleu.corpus_score(beam_translations, [references]).score\n",
    "\n",
    "    print(f\"BLEU with greedy search: {bleu_greedy}, with beam search: {bleu_beam}\")\n",
    "\n",
    "translate_test_set(model, data_dir, tokenizer_path)"
   ]
  },
  {
   "cell_type": "code",
   "execution_count": null,
   "id": "d6f617f7-6ea9-4825-a0c3-2b99750e798a",
   "metadata": {},
   "outputs": [],
   "source": []
  }
 ],
 "metadata": {
  "kernelspec": {
   "display_name": "Python 3.9.15 ('dl-2')",
   "language": "python",
   "name": "python3"
  },
  "language_info": {
   "codemirror_mode": {
    "name": "ipython",
    "version": 3
   },
   "file_extension": ".py",
   "mimetype": "text/x-python",
   "name": "python",
   "nbconvert_exporter": "python",
   "pygments_lexer": "ipython3",
   "version": "3.9.15"
  },
  "vscode": {
   "interpreter": {
    "hash": "812cc1abbef3a600cc3e2fc510543ddbc94173b0afc4f59058a75784aafda50a"
   }
  }
 },
 "nbformat": 4,
 "nbformat_minor": 5
}
